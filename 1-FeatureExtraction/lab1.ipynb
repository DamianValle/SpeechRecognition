{
  "nbformat": 4,
  "nbformat_minor": 0,
  "metadata": {
    "colab": {
      "name": "lab1.ipynb",
      "provenance": [],
      "collapsed_sections": []
    },
    "kernelspec": {
      "name": "python3",
      "display_name": "Python 3"
    },
    "language_info": {
      "name": "python"
    }
  },
  "cells": [
    {
      "cell_type": "code",
      "metadata": {
        "id": "BjjhG73unYFT"
      },
      "source": [
        "import numpy as np\n",
        "import matplotlib.pyplot as plt\n",
        "from scipy import signal\n",
        "from scipy.fftpack import fft, ifft"
      ],
      "execution_count": 111,
      "outputs": []
    },
    {
      "cell_type": "code",
      "metadata": {
        "id": "_P96CqqRnb7p"
      },
      "source": [
        "example = np.load('lab1_example.npz', allow_pickle=True)['example'].item()"
      ],
      "execution_count": 2,
      "outputs": []
    },
    {
      "cell_type": "code",
      "metadata": {
        "colab": {
          "base_uri": "https://localhost:8080/"
        },
        "id": "Sn0LJCmJnl8d",
        "outputId": "b8823e72-808f-439e-e533-a435d73872f4"
      },
      "source": [
        "data = np.load('lab1_data.npz', allow_pickle=True)['data']"
      ],
      "execution_count": 4,
      "outputs": [
        {
          "output_type": "execute_result",
          "data": {
            "text/plain": [
              "array([[ 78.81124834, -29.97987752,  20.77628064, ...,   4.19099451,\n",
              "        -11.34048447,  -4.30897647],\n",
              "       [ 95.4199496 , -34.85564562,  23.90297262, ...,   9.90496024,\n",
              "          0.18249144,   3.05911084],\n",
              "       [ 77.81471095, -48.80633404,   2.74018053, ...,  -5.64588281,\n",
              "         -1.33245192,  -2.36135337],\n",
              "       ...,\n",
              "       [ 96.38980165, -12.68461957,  29.36886331, ...,   3.96666861,\n",
              "          9.83356184,   8.90504129],\n",
              "       [ 81.95447699, -20.38209813,  25.55062515, ...,   3.22867922,\n",
              "         -5.59657257,  10.1481424 ],\n",
              "       [ 98.68186465, -17.07886769,  27.8839304 , ...,   4.34712633,\n",
              "         12.61442286,  15.41481153]])"
            ]
          },
          "metadata": {
            "tags": []
          },
          "execution_count": 4
        }
      ]
    },
    {
      "cell_type": "code",
      "metadata": {
        "id": "6YTrKBP3nnD_"
      },
      "source": [
        "def mspec(samples, winlen = 400, winshift = 200, preempcoeff=0.97, nfft=512, samplingrate=20000):\n",
        "    \"\"\"Computes Mel Filterbank features.\n",
        "\n",
        "    Args:\n",
        "        samples: array of speech samples with shape (N,)\n",
        "        winlen: lenght of the analysis window\n",
        "        winshift: number of samples to shift the analysis window at every time step\n",
        "        preempcoeff: pre-emphasis coefficient\n",
        "        nfft: length of the Fast Fourier Transform (power of 2, >= winlen)\n",
        "        samplingrate: sampling rate of the original signal\n",
        "\n",
        "    Returns:\n",
        "        N x nfilters array with mel filterbank features (see trfbank for nfilters)\n",
        "    \"\"\"\n",
        "    frames = enframe(samples, winlen, winshift)\n",
        "    preemph = preemp(frames, preempcoeff)\n",
        "    windowed = windowing(preemph)\n",
        "    spec = powerSpectrum(windowed, nfft)\n",
        "    return logMelSpectrum(spec, samplingrate)"
      ],
      "execution_count": 11,
      "outputs": []
    },
    {
      "cell_type": "code",
      "metadata": {
        "id": "sxUYtkC3oBgg"
      },
      "source": [
        "def mfcc(samples, winlen = 400, winshift = 200, preempcoeff=0.97, nfft=512, nceps=13, samplingrate=20000, liftercoeff=22):\n",
        "    \"\"\"Computes Mel Frequency Cepstrum Coefficients.\n",
        "\n",
        "    Args:\n",
        "        samples: array of speech samples with shape (N,)\n",
        "        winlen: lenght of the analysis window\n",
        "        winshift: number of samples to shift the analysis window at every time step\n",
        "        preempcoeff: pre-emphasis coefficient\n",
        "        nfft: length of the Fast Fourier Transform (power of 2, >= winlen)\n",
        "        nceps: number of cepstrum coefficients to compute\n",
        "        samplingrate: sampling rate of the original signal\n",
        "        liftercoeff: liftering coefficient used to equalise scale of MFCCs\n",
        "\n",
        "    Returns:\n",
        "        N x nceps array with lifetered MFCC coefficients\n",
        "    \"\"\"\n",
        "    mspecs = mspec(samples, winlen, winshift, preempcoeff, nfft, samplingrate)\n",
        "    ceps = cepstrum(mspecs, nceps)\n",
        "    return lifter(ceps, liftercoeff)"
      ],
      "execution_count": 12,
      "outputs": []
    },
    {
      "cell_type": "code",
      "metadata": {
        "id": "g1nj5msRQ1rd"
      },
      "source": [
        "def trfbank(fs, nfft, lowfreq=133.33, linsc=200/3., logsc=1.0711703, nlinfilt=13, nlogfilt=27, equalareas=False):\n",
        "    \"\"\"Compute triangular filterbank for MFCC computation.\n",
        "\n",
        "    Inputs:\n",
        "    fs:         sampling frequency (rate)\n",
        "    nfft:       length of the fft\n",
        "    lowfreq:    frequency of the lowest filter\n",
        "    linsc:      scale for the linear filters\n",
        "    logsc:      scale for the logaritmic filters\n",
        "    nlinfilt:   number of linear filters\n",
        "    nlogfilt:   number of log filters\n",
        "\n",
        "    Outputs:\n",
        "    res:  array with shape [N, nfft], with filter amplitudes for each column.\n",
        "            (N=nlinfilt+nlogfilt)\n",
        "    From scikits.talkbox\"\"\"\n",
        "    # Total number of filters\n",
        "    nfilt = nlinfilt + nlogfilt\n",
        "\n",
        "    #------------------------\n",
        "    # Compute the filter bank\n",
        "    #------------------------\n",
        "    # Compute start/middle/end points of the triangular filters in spectral\n",
        "    # domain\n",
        "    freqs = np.zeros(nfilt+2)\n",
        "    freqs[:nlinfilt] = lowfreq + np.arange(nlinfilt) * linsc\n",
        "    freqs[nlinfilt:] = freqs[nlinfilt-1] * logsc ** np.arange(1, nlogfilt + 3)\n",
        "    if equalareas:\n",
        "        heights = np.ones(nfilt)\n",
        "    else:\n",
        "        heights = 2./(freqs[2:] - freqs[0:-2])\n",
        "\n",
        "    # Compute filterbank coeff (in fft domain, in bins)\n",
        "    fbank = np.zeros((nfilt, nfft))\n",
        "    # FFT bins (in Hz)\n",
        "    nfreqs = np.arange(nfft) / (1. * nfft) * fs\n",
        "    for i in range(nfilt):\n",
        "        low = freqs[i]\n",
        "        cen = freqs[i+1]\n",
        "        hi = freqs[i+2]\n",
        "\n",
        "        lid = np.arange(np.floor(low * nfft / fs) + 1,\n",
        "                        np.floor(cen * nfft / fs) + 1, dtype=np.int)\n",
        "        lslope = heights[i] / (cen - low)\n",
        "        rid = np.arange(np.floor(cen * nfft / fs) + 1,\n",
        "                        np.floor(hi * nfft / fs) + 1, dtype=np.int)\n",
        "        rslope = heights[i] / (hi - cen)\n",
        "        fbank[i][lid] = lslope * (nfreqs[lid] - low)\n",
        "        fbank[i][rid] = rslope * (hi - nfreqs[rid])\n",
        "\n",
        "    return fbank"
      ],
      "execution_count": 150,
      "outputs": []
    },
    {
      "cell_type": "code",
      "metadata": {
        "id": "mgqHpSMoolHW"
      },
      "source": [
        "def enframe(samples, winlen, winshift):\n",
        "    \"\"\"\n",
        "    Slices the input samples into overlapping windows.\n",
        "\n",
        "    Args:\n",
        "        winlen: window length in samples.\n",
        "        winshift: shift of consecutive windows in samples\n",
        "    Returns:\n",
        "        numpy array [N x winlen], where N is the number of windows that fit\n",
        "        in the input signal\n",
        "    \"\"\"\n",
        "    idx = 0\n",
        "    ans = []\n",
        "    while idx < samples.size - winlen:\n",
        "      ans.append(samples[int(idx):int(idx+winlen)])\n",
        "      idx += winshift\n",
        "\n",
        "    return np.array(ans)"
      ],
      "execution_count": 65,
      "outputs": []
    },
    {
      "cell_type": "code",
      "metadata": {
        "id": "yMnNDo6Joqzw"
      },
      "source": [
        "def preemp(input, p=0.97):\n",
        "    \"\"\"\n",
        "    Pre-emphasis filter.\n",
        "\n",
        "    Args:\n",
        "        input: array of speech frames [N x M] where N is the number of frames and\n",
        "               M the samples per frame\n",
        "        p: preemhasis factor (defaults to the value specified in the exercise)\n",
        "\n",
        "    Output:\n",
        "        output: array of pre-emphasised speech samples\n",
        "    Note (you can use the function lfilter from scipy.signal)\n",
        "    \"\"\"\n",
        "    ans = []\n",
        "\n",
        "    for row in input:\n",
        "      ans.append(signal.lfilter([1, -p], [1], row))\n",
        "\n",
        "    return np.array(ans)"
      ],
      "execution_count": 89,
      "outputs": []
    },
    {
      "cell_type": "code",
      "metadata": {
        "id": "h1NP8cVCLhzj"
      },
      "source": [
        "def windowing(input, window):\n",
        "    \"\"\"\n",
        "    Applies hamming window to the input frames.\n",
        "\n",
        "    Args:\n",
        "        input: array of speech samples [N x M] where N is the number of frames and\n",
        "               M the samples per frame\n",
        "    Output:\n",
        "        array of windoed speech samples [N x M]\n",
        "    Note (you can use the function hamming from scipy.signal, include the sym=0 option\n",
        "    if you want to get the same results as in the example)\n",
        "    \"\"\"\n",
        "    ans = []\n",
        "\n",
        "    for row in input:\n",
        "      ans.append(row * window)\n",
        "\n",
        "    return np.array(ans)"
      ],
      "execution_count": 108,
      "outputs": []
    },
    {
      "cell_type": "code",
      "metadata": {
        "id": "uHW76E5bOLSo"
      },
      "source": [
        "def powerSpectrum(input, nfft):\n",
        "    \"\"\"\n",
        "    Calculates the power spectrum of the input signal, that is the square of the modulus of the FFT\n",
        "\n",
        "    Args:\n",
        "        input: array of speech samples [N x M] where N is the number of frames and\n",
        "               M the samples per frame\n",
        "        nfft: length of the FFT\n",
        "    Output:\n",
        "        array of power spectra [N x nfft]\n",
        "    Note: you can use the function fft from scipy.fftpack\n",
        "    \"\"\"\n",
        "    ans = []\n",
        "\n",
        "    for row in input:\n",
        "      ans.append( abs(fft(row, nfft))**2 )\n",
        "\n",
        "    return np.array(ans)"
      ],
      "execution_count": 128,
      "outputs": []
    },
    {
      "cell_type": "code",
      "metadata": {
        "id": "LSbgeXQsoydz"
      },
      "source": [
        "def logMelSpectrum(input, samplingrate):\n",
        "    \"\"\"\n",
        "    Calculates the log output of a Mel filterbank when the input is the power spectrum\n",
        "\n",
        "    Args:\n",
        "        input: array of power spectrum coefficients [N x nfft] where N is the number of frames and\n",
        "               nfft the length of each spectrum\n",
        "        samplingrate: sampling rate of the original signal (used to calculate the filterbank shapes)\n",
        "    Output:\n",
        "        array of Mel filterbank log outputs [N x nmelfilters] where nmelfilters is the number\n",
        "        of filters in the filterbank\n",
        "    Note: use the trfbank function provided in lab1_tools.py to calculate the filterbank shapes and\n",
        "          nmelfilters\n",
        "    \"\"\"\n",
        "\n",
        "    ans = []\n",
        "\n",
        "    tr_bank = trfbank(samplingrate, 512)\n",
        "\n",
        "    for row in input:\n",
        "      ans.append( signal.lfilter )\n",
        "    \n",
        "    return np.log(np.array(ans))"
      ],
      "execution_count": 16,
      "outputs": []
    },
    {
      "cell_type": "code",
      "metadata": {
        "id": "B7dKMWzNul6m"
      },
      "source": [
        "def cepstrum(input, nceps):\n",
        "    \"\"\"\n",
        "    Calulates Cepstral coefficients from mel spectrum applying Discrete Cosine Transform\n",
        "\n",
        "    Args:\n",
        "        input: array of log outputs of Mel scale filterbank [N x nmelfilters] where N is the\n",
        "               number of frames and nmelfilters the length of the filterbank\n",
        "        nceps: number of output cepstral coefficients\n",
        "    Output:\n",
        "        array of Cepstral coefficients [N x nceps]\n",
        "    Note: you can use the function dct from scipy.fftpack.realtransforms\n",
        "    \"\"\"\n",
        "    #TODO\n",
        "    pass"
      ],
      "execution_count": 17,
      "outputs": []
    },
    {
      "cell_type": "code",
      "metadata": {
        "id": "Ef-3hYhQuqLt"
      },
      "source": [
        "def dtw(x, y, dist):\n",
        "    \"\"\"Dynamic Time Warping.\n",
        "\n",
        "    Args:\n",
        "        x, y: arrays of size NxD and MxD respectively, where D is the dimensionality\n",
        "              and N, M are the respective lenghts of the sequences\n",
        "        dist: distance function (can be used in the code as dist(x[i], y[j]))\n",
        "\n",
        "    Outputs:\n",
        "        d: global distance between the sequences (scalar) normalized to len(x)+len(y)\n",
        "        LD: local distance between frames from x and y (NxM matrix)\n",
        "        AD: accumulated distance between frames of x and y (NxM matrix)\n",
        "        path: best path thtough AD\n",
        "\n",
        "    Note that you only need to define the first output for this exercise.\n",
        "    \"\"\"\n",
        "    #TODO\n",
        "    pass"
      ],
      "execution_count": 18,
      "outputs": []
    },
    {
      "cell_type": "markdown",
      "metadata": {
        "id": "XWfGxbFyvnxg"
      },
      "source": [
        "# Mel-frequency cepstrum coefficients"
      ]
    },
    {
      "cell_type": "code",
      "metadata": {
        "colab": {
          "base_uri": "https://localhost:8080/",
          "height": 282
        },
        "id": "yhZmAfqCwnc-",
        "outputId": "61478330-271b-4873-d1dc-f7c6d41b8f3b"
      },
      "source": [
        "plt.plot(example['samples'])\n",
        "plt.plot()"
      ],
      "execution_count": 27,
      "outputs": [
        {
          "output_type": "execute_result",
          "data": {
            "text/plain": [
              "[]"
            ]
          },
          "metadata": {
            "tags": []
          },
          "execution_count": 27
        },
        {
          "output_type": "display_data",
          "data": {
            "image/png": "[encoded data removed]",
            "text/plain": [
              "<Figure size 432x288 with 1 Axes>"
            ]
          },
          "metadata": {
            "tags": [],
            "needs_background": "light"
          }
        }
      ]
    },
    {
      "cell_type": "markdown",
      "metadata": {
        "id": "x4yIUo7Yv0nF"
      },
      "source": [
        "## Enframe"
      ]
    },
    {
      "cell_type": "code",
      "metadata": {
        "colab": {
          "base_uri": "https://localhost:8080/"
        },
        "id": "QAO5fnNdywt0",
        "outputId": "713736a0-7ac7-472e-e69f-221455b8fd5a"
      },
      "source": [
        "window_length = 20 #ms\n",
        "window_shift = 10 #ms\n",
        "\n",
        "winlen = window_length * example['samplingrate'] / 1000\n",
        "winshift = window_shift * example['samplingrate'] / 1000\n",
        "\n",
        "enframed = enframe(example['samples'], winlen, winshift)\n",
        "(enframed==example['frames']).all()"
      ],
      "execution_count": 71,
      "outputs": [
        {
          "output_type": "execute_result",
          "data": {
            "text/plain": [
              "True"
            ]
          },
          "metadata": {
            "tags": []
          },
          "execution_count": 71
        }
      ]
    },
    {
      "cell_type": "code",
      "metadata": {
        "colab": {
          "base_uri": "https://localhost:8080/",
          "height": 282
        },
        "id": "An-MScYy1fdp",
        "outputId": "f244968e-34a3-4689-f397-ab7a7e23748d"
      },
      "source": [
        "plt.pcolormesh(enframed)\n",
        "plt.plot()"
      ],
      "execution_count": 69,
      "outputs": [
        {
          "output_type": "execute_result",
          "data": {
            "text/plain": [
              "[]"
            ]
          },
          "metadata": {
            "tags": []
          },
          "execution_count": 69
        },
        {
          "output_type": "display_data",
          "data": {
            "image/png": "[encoded data removed]",
            "text/plain": [
              "<Figure size 432x288 with 1 Axes>"
            ]
          },
          "metadata": {
            "tags": [],
            "needs_background": "light"
          }
        }
      ]
    },
    {
      "cell_type": "markdown",
      "metadata": {
        "id": "dzAZ-l3822zK"
      },
      "source": [
        "## Pre-emphasis"
      ]
    },
    {
      "cell_type": "code",
      "metadata": {
        "colab": {
          "base_uri": "https://localhost:8080/"
        },
        "id": "jB2a5oTB24Y_",
        "outputId": "d280050c-e9fa-4b21-8c76-1fd11449052a"
      },
      "source": [
        "preemph = preemp(enframed)\n",
        "(example['preemph']==preemph).all()"
      ],
      "execution_count": 95,
      "outputs": [
        {
          "output_type": "execute_result",
          "data": {
            "text/plain": [
              "True"
            ]
          },
          "metadata": {
            "tags": []
          },
          "execution_count": 95
        }
      ]
    },
    {
      "cell_type": "code",
      "metadata": {
        "colab": {
          "base_uri": "https://localhost:8080/",
          "height": 282
        },
        "id": "g_nlEF2_JwvE",
        "outputId": "cd2c0840-0c81-43ba-9bd0-516fca8866c0"
      },
      "source": [
        "plt.pcolormesh(preemph)\n",
        "plt.plot()"
      ],
      "execution_count": 96,
      "outputs": [
        {
          "output_type": "execute_result",
          "data": {
            "text/plain": [
              "[]"
            ]
          },
          "metadata": {
            "tags": []
          },
          "execution_count": 96
        },
        {
          "output_type": "display_data",
          "data": {
            "image/png": "[encoded data removed]",
            "text/plain": [
              "<Figure size 432x288 with 1 Axes>"
            ]
          },
          "metadata": {
            "tags": [],
            "needs_background": "light"
          }
        }
      ]
    },
    {
      "cell_type": "markdown",
      "metadata": {
        "id": "0V9vYykKK81B"
      },
      "source": [
        "## Hamming Window"
      ]
    },
    {
      "cell_type": "code",
      "metadata": {
        "colab": {
          "base_uri": "https://localhost:8080/",
          "height": 282
        },
        "id": "6lMX54ODM4lq",
        "outputId": "cbbf6a97-3920-4505-e370-ab44cee11ca9"
      },
      "source": [
        "window = signal.hamming(preemph.shape[1], sym=0)\n",
        "plt.plot(window)\n",
        "plt.plot()"
      ],
      "execution_count": 107,
      "outputs": [
        {
          "output_type": "execute_result",
          "data": {
            "text/plain": [
              "[]"
            ]
          },
          "metadata": {
            "tags": []
          },
          "execution_count": 107
        },
        {
          "output_type": "display_data",
          "data": {
            "image/png": "[encoded data removed]",
            "text/plain": [
              "<Figure size 432x288 with 1 Axes>"
            ]
          },
          "metadata": {
            "tags": [],
            "needs_background": "light"
          }
        }
      ]
    },
    {
      "cell_type": "code",
      "metadata": {
        "id": "xwfGCUVC4MwU"
      },
      "source": [
        "windowed = windowing(example['preemph'], window)"
      ],
      "execution_count": 148,
      "outputs": []
    },
    {
      "cell_type": "code",
      "metadata": {
        "colab": {
          "base_uri": "https://localhost:8080/"
        },
        "id": "XPPs15CVL6Ii",
        "outputId": "7eb751da-e7aa-4d27-df05-8dfa3c0582f6"
      },
      "source": [
        "(example['windowed']==windowed).all()"
      ],
      "execution_count": 110,
      "outputs": [
        {
          "output_type": "execute_result",
          "data": {
            "text/plain": [
              "True"
            ]
          },
          "metadata": {
            "tags": []
          },
          "execution_count": 110
        }
      ]
    },
    {
      "cell_type": "markdown",
      "metadata": {
        "id": "hsN-de_pNvlG"
      },
      "source": [
        "## Fast Fourier Transform"
      ]
    },
    {
      "cell_type": "code",
      "metadata": {
        "id": "abg4KJAvNzId"
      },
      "source": [
        "nfft = 512\n",
        "\n",
        "spec = powerSpectrum(example['windowed'], nfft)"
      ],
      "execution_count": 147,
      "outputs": []
    },
    {
      "cell_type": "code",
      "metadata": {
        "colab": {
          "base_uri": "https://localhost:8080/"
        },
        "id": "5L-vm8F0PAaQ",
        "outputId": "62a8d67e-667e-40dc-a058-36f802a43b4f"
      },
      "source": [
        "(example['spec']==spec).all()"
      ],
      "execution_count": 130,
      "outputs": [
        {
          "output_type": "execute_result",
          "data": {
            "text/plain": [
              "False"
            ]
          },
          "metadata": {
            "tags": []
          },
          "execution_count": 130
        }
      ]
    },
    {
      "cell_type": "code",
      "metadata": {
        "colab": {
          "base_uri": "https://localhost:8080/"
        },
        "id": "7fe-FwkgQDaZ",
        "outputId": "548f0bbf-553e-44e4-ebc7-7c4652af10e4"
      },
      "source": [
        "# We add a threshold\n",
        "((spec - example['spec']) < 1e-6).all()"
      ],
      "execution_count": 144,
      "outputs": [
        {
          "output_type": "execute_result",
          "data": {
            "text/plain": [
              "True"
            ]
          },
          "metadata": {
            "tags": []
          },
          "execution_count": 144
        }
      ]
    },
    {
      "cell_type": "code",
      "metadata": {
        "colab": {
          "base_uri": "https://localhost:8080/",
          "height": 282
        },
        "id": "vK7KTUIEPElI",
        "outputId": "a9d24a22-e05a-4323-e98d-5f9ab407a980"
      },
      "source": [
        "plt.pcolormesh(example['spec'])\n",
        "plt.plot()"
      ],
      "execution_count": 131,
      "outputs": [
        {
          "output_type": "execute_result",
          "data": {
            "text/plain": [
              "[]"
            ]
          },
          "metadata": {
            "tags": []
          },
          "execution_count": 131
        },
        {
          "output_type": "display_data",
          "data": {
            "image/png": "[encoded data removed]",
            "text/plain": [
              "<Figure size 432x288 with 1 Axes>"
            ]
          },
          "metadata": {
            "tags": [],
            "needs_background": "light"
          }
        }
      ]
    },
    {
      "cell_type": "code",
      "metadata": {
        "colab": {
          "base_uri": "https://localhost:8080/",
          "height": 282
        },
        "id": "sMqAtHXFPNPj",
        "outputId": "19c3b801-b42f-428f-d22a-4e7dfa8dce25"
      },
      "source": [
        "plt.pcolormesh(spec)\n",
        "plt.plot()"
      ],
      "execution_count": 132,
      "outputs": [
        {
          "output_type": "execute_result",
          "data": {
            "text/plain": [
              "[]"
            ]
          },
          "metadata": {
            "tags": []
          },
          "execution_count": 132
        },
        {
          "output_type": "display_data",
          "data": {
            "image/png": "[encoded data removed]",
            "text/plain": [
              "<Figure size 432x288 with 1 Axes>"
            ]
          },
          "metadata": {
            "tags": [],
            "needs_background": "light"
          }
        }
      ]
    },
    {
      "cell_type": "markdown",
      "metadata": {
        "id": "811mIOXAQiW0"
      },
      "source": [
        "## Mel filterbank log spectrum"
      ]
    },
    {
      "cell_type": "code",
      "metadata": {
        "colab": {
          "base_uri": "https://localhost:8080/"
        },
        "id": "_c3z-RJAQnDE",
        "outputId": "35a69d52-076e-426d-bd60-e2fa4b31c4e6"
      },
      "source": [
        "tr_bank = trfbank(example['samplingrate'], nfft)\n",
        "tr_bank.shape"
      ],
      "execution_count": 156,
      "outputs": [
        {
          "output_type": "execute_result",
          "data": {
            "text/plain": [
              "(40, 512)"
            ]
          },
          "metadata": {
            "tags": []
          },
          "execution_count": 156
        }
      ]
    },
    {
      "cell_type": "code",
      "metadata": {
        "colab": {
          "base_uri": "https://localhost:8080/"
        },
        "id": "L6Y2d8e6S1ZY",
        "outputId": "d1e02581-4836-40c8-882a-b621d3febc7b"
      },
      "source": [
        "example['mspec'].shape"
      ],
      "execution_count": 157,
      "outputs": [
        {
          "output_type": "execute_result",
          "data": {
            "text/plain": [
              "(91, 40)"
            ]
          },
          "metadata": {
            "tags": []
          },
          "execution_count": 157
        }
      ]
    },
    {
      "cell_type": "code",
      "metadata": {
        "colab": {
          "base_uri": "https://localhost:8080/",
          "height": 286
        },
        "id": "rx4LJ_eXRn14",
        "outputId": "d7a828d5-685b-45a7-e2b2-64fb4bd43b59"
      },
      "source": [
        "plt.pcolormesh(tr_bank)\n",
        "plt.plot()"
      ],
      "execution_count": 154,
      "outputs": [
        {
          "output_type": "execute_result",
          "data": {
            "text/plain": [
              "[]"
            ]
          },
          "metadata": {
            "tags": []
          },
          "execution_count": 154
        },
        {
          "output_type": "display_data",
          "data": {
            "image/png": "[encoded data removed]",
            "text/plain": [
              "<Figure size 432x288 with 1 Axes>"
            ]
          },
          "metadata": {
            "tags": [],
            "needs_background": "light"
          }
        }
      ]
    },
    {
      "cell_type": "code",
      "metadata": {
        "id": "84ywz5N7RukS"
      },
      "source": [
        "mspec = logMelSpectrum(example['spec'], example['samplingrate'])"
      ],
      "execution_count": null,
      "outputs": []
    },
    {
      "cell_type": "code",
      "metadata": {
        "colab": {
          "base_uri": "https://localhost:8080/",
          "height": 282
        },
        "id": "wCIci1URSMQa",
        "outputId": "e0d6a443-05d4-4464-c2c8-87e7d1a30460"
      },
      "source": [
        "plt.pcolormesh(example['mspec'])\n",
        "plt.plot()"
      ],
      "execution_count": 155,
      "outputs": [
        {
          "output_type": "execute_result",
          "data": {
            "text/plain": [
              "[]"
            ]
          },
          "metadata": {
            "tags": []
          },
          "execution_count": 155
        },
        {
          "output_type": "display_data",
          "data": {
            "image/png": "[encoded data removed]",
            "text/plain": [
              "<Figure size 432x288 with 1 Axes>"
            ]
          },
          "metadata": {
            "tags": [],
            "needs_background": "light"
          }
        }
      ]
    },
    {
      "cell_type": "code",
      "metadata": {
        "id": "GxlsaVNoSOXB"
      },
      "source": [
        ""
      ],
      "execution_count": null,
      "outputs": []
    }
  ]
}