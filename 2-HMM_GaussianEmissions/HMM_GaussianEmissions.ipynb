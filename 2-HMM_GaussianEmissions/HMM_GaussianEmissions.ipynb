{
  "nbformat": 4,
  "nbformat_minor": 0,
  "metadata": {
    "colab": {
      "name": "HMM.ipynb",
      "provenance": [],
      "collapsed_sections": []
    },
    "kernelspec": {
      "name": "python3",
      "display_name": "Python 3"
    },
    "language_info": {
      "name": "python"
    }
  },
  "cells": [
    {
      "cell_type": "markdown",
      "metadata": {
        "id": "t8X0SRmjDX_I"
      },
      "source": [
        "# Hidden Markov Models with Gaussian Emissions\n",
        "\n",
        "List of tasks performed in this notebook:\n",
        "- Implement the algorithms for the evaluation and decoding of Hidden Markov Models\n",
        "- Use the implementation to perform isolated word recognition\n",
        "- Implement the algorithms for training Gaussian Hidden Markov Models (G-HMMs)\n",
        "- Explain the meaning of the forward, backward and state posterior probabilities evaluated on speech utterances\n",
        "\n",
        "Authors:\n",
        "* Damian Valle\n",
        "* Marc Botet\n"
      ]
    },
    {
      "cell_type": "markdown",
      "metadata": {
        "id": "kzXqAiEiEhWg"
      },
      "source": [
        "## Imports and data loading"
      ]
    },
    {
      "cell_type": "code",
      "metadata": {
        "id": "M0bD8ITKEip7"
      },
      "source": [
        "import numpy as np\n",
        "import matplotlib.pyplot as plt\n",
        "from sklearn.metrics import accuracy_score"
      ],
      "execution_count": null,
      "outputs": []
    },
    {
      "cell_type": "code",
      "metadata": {
        "id": "2EA-cS_mEm_k"
      },
      "source": [
        "data = np.load('lab2_data.npz', allow_pickle=True)['data']\n",
        "example = np.load('lab2_example.npz', allow_pickle=True)['example'].item()\n",
        "\n",
        "phoneHMMs_one = np.load('lab2_models_onespkr.npz', allow_pickle=True)['phoneHMMs'].item()\n",
        "phoneHMMs = np.load('lab2_models_all.npz', allow_pickle=True)['phoneHMMs'].item()"
      ],
      "execution_count": null,
      "outputs": []
    },
    {
      "cell_type": "code",
      "metadata": {
        "colab": {
          "base_uri": "https://localhost:8080/"
        },
        "id": "WanuaLAuEyZr",
        "outputId": "37f7fee5-4ce0-41be-deda-63b17ee6ddf4"
      },
      "source": [
        "example.keys()"
      ],
      "execution_count": null,
      "outputs": [
        {
          "output_type": "execute_result",
          "data": {
            "text/plain": [
              "dict_keys(['filename', 'samplingrate', 'gender', 'speaker', 'digit', 'repetition', 'samples', 'lmfcc', 'obsloglik', 'logalpha', 'loglik', 'vloglik', 'vpath', 'logbeta', 'loggamma'])"
            ]
          },
          "metadata": {
            "tags": []
          },
          "execution_count": 8
        }
      ]
    },
    {
      "cell_type": "markdown",
      "metadata": {
        "id": "vPebYgRkD_gC"
      },
      "source": [
        "## Tools"
      ]
    },
    {
      "cell_type": "code",
      "metadata": {
        "id": "VQCgn0r_D7HJ"
      },
      "source": [
        "prondict = {} \n",
        "prondict['o'] = ['ow']\n",
        "prondict['z'] = ['z', 'iy', 'r', 'ow']\n",
        "prondict['1'] = ['w', 'ah', 'n']\n",
        "prondict['2'] = ['t', 'uw']\n",
        "prondict['3'] = ['th', 'r', 'iy']\n",
        "prondict['4'] = ['f', 'ao', 'r']\n",
        "prondict['5'] = ['f', 'ay', 'v']\n",
        "prondict['6'] = ['s', 'ih', 'k', 's']\n",
        "prondict['7'] = ['s', 'eh', 'v', 'ah', 'n']\n",
        "prondict['8'] = ['ey', 't']\n",
        "prondict['9'] = ['n', 'ay', 'n']\n",
        "\n",
        "isolated = {}\n",
        "for digit in prondict.keys():\n",
        "  isolated[digit] = ['sil'] + prondict[digit] + ['sil']"
      ],
      "execution_count": null,
      "outputs": []
    },
    {
      "cell_type": "code",
      "metadata": {
        "id": "AoGiwHimEBOf"
      },
      "source": [
        "def logsumexp(arr, axis=0):\n",
        "    \"\"\"Computes the sum of arr assuming arr is in the log domain.\n",
        "    Returns log(sum(exp(arr))) while minimizing the possibility of\n",
        "    over/underflow.\n",
        "    \"\"\"\n",
        "    arr = np.rollaxis(arr, axis)\n",
        "    # Use the max to normalize, as with the log this is what accumulates\n",
        "    # the less errors\n",
        "    vmax = arr.max(axis=0)\n",
        "    if vmax.ndim > 0:\n",
        "        vmax[~np.isfinite(vmax)] = 0\n",
        "    elif not np.isfinite(vmax):\n",
        "        vmax = 0\n",
        "    with np.errstate(divide=\"ignore\"):\n",
        "        out = np.log(np.sum(np.exp(arr - vmax), axis=0))\n",
        "        out += vmax\n",
        "        return out\n",
        "\n",
        "def log_multivariate_normal_density_diag(X, means, covars):\n",
        "    \"\"\"Compute Gaussian log-density at X for a diagonal model\n",
        "\n",
        "    Args:\n",
        "        X: array like, shape (n_observations, n_features)\n",
        "        means: array like, shape (n_components, n_features)\n",
        "        covars: array like, shape (n_components, n_features)\n",
        "\n",
        "    Output:\n",
        "        lpr: array like, shape (n_observations, n_components)\n",
        "    From scikit-learn/sklearn/mixture/gmm.py\n",
        "    \"\"\"\n",
        "    n_samples, n_dim = X.shape\n",
        "    lpr = -0.5 * (n_dim * np.log(2 * np.pi) + np.sum(np.log(covars), 1)\n",
        "                  + np.sum((means ** 2) / covars, 1)\n",
        "                  - 2 * np.dot(X, (means / covars).T)\n",
        "                  + np.dot(X ** 2, (1.0 / covars).T))\n",
        "    return lpr"
      ],
      "execution_count": null,
      "outputs": []
    },
    {
      "cell_type": "markdown",
      "metadata": {
        "id": "cATmsPeBEJsu"
      },
      "source": [
        "## Functions"
      ]
    },
    {
      "cell_type": "code",
      "metadata": {
        "id": "ullaXJ9dDmWW"
      },
      "source": [
        "def concatTwoHMMs(hmm1, hmm2):\n",
        "    \"\"\" Concatenates 2 HMM models\n",
        "\n",
        "    Args:\n",
        "       hmm1, hmm2: two dictionaries with the following keys:\n",
        "           name: phonetic or word symbol corresponding to the model\n",
        "           startprob: M+1 array with priori probability of state\n",
        "           transmat: (M+1)x(M+1) transition matrix\n",
        "           means: MxD array of mean vectors\n",
        "           covars: MxD array of variances\n",
        "\n",
        "    D is the dimension of the feature vectors\n",
        "    M is the number of emitting states in each HMM model (could be different for each)\n",
        "\n",
        "    Output\n",
        "       dictionary with the same keys as the input but concatenated models:\n",
        "          startprob: K+1 array with priori probability of state\n",
        "          transmat: (K+1)x(K+1) transition matrix\n",
        "             means: KxD array of mean vectors\n",
        "            covars: KxD array of variances\n",
        "\n",
        "    K is the sum of the number of emitting states from the input models\n",
        "   \n",
        "    Example:\n",
        "       twoHMMs = concatHMMs(phoneHMMs['sil'], phoneHMMs['ow'])\n",
        "\n",
        "    See also: the concatenating_hmms.pdf document in the lab package\n",
        "    \"\"\"\n",
        "\n",
        "    ans = {}\n",
        "    \n",
        "    K = hmm1['means'].shape[0] + hmm2['means'].shape[0]\n",
        "    \n",
        "    ans['name'] = hmm1['name'] + hmm2['name']\n",
        "    ans['startprob'] = np.zeros((K+1, 1))\n",
        "    ans['transmat'] = np.zeros((K+1, K+1))\n",
        "    ans['means'] = np.vstack((hmm1['means'], hmm2['means']))\n",
        "    ans['covars'] = np.vstack((hmm1['covars'], hmm2['covars']))\n",
        "    \n",
        "    start1 = hmm1['startprob'].reshape(-1,1)\n",
        "    start2 = hmm2['startprob'].reshape(-1,1)\n",
        "    \n",
        "    ans['startprob'][:hmm1['startprob'].shape[0]-1,:] = start1[:-1,:]\n",
        "    ans['startprob'][hmm1['startprob'].shape[0]-1:,:] = np.dot(start1[-1,0], start2)\n",
        "    trans = ans['transmat']\n",
        "    trans1 = hmm1['transmat']\n",
        "    trans2 = hmm2['transmat']\n",
        "\n",
        "    trans[:trans1.shape[0]-1,:trans1.shape[1]-1] = trans1[:-1,:-1]\n",
        "    temp = trans1[:-1,-1].reshape(-1,1)\n",
        "    trans[:trans1.shape[0]-1,trans1.shape[1]-1:] = np.dot(temp,start2.T)\n",
        "    trans[trans1.shape[0]-1:,trans1.shape[1]-1:] = trans2\n",
        "    ans['transmat'] = trans    \n",
        "    \n",
        "    return ans"
      ],
      "execution_count": null,
      "outputs": []
    },
    {
      "cell_type": "code",
      "metadata": {
        "id": "lBfBZ4NODxbE"
      },
      "source": [
        "def concatHMMs(hmmmodels, namelist):\n",
        "    \"\"\" Concatenates HMM models in a left to right manner\n",
        "\n",
        "    Args:\n",
        "       hmmmodels: dictionary of models indexed by model name. \n",
        "       hmmmodels[name] is a dictionaries with the following keys:\n",
        "           name: phonetic or word symbol corresponding to the model\n",
        "           startprob: M+1 array with priori probability of state\n",
        "           transmat: (M+1)x(M+1) transition matrix\n",
        "           means: MxD array of mean vectors\n",
        "           covars: MxD array of variances\n",
        "       namelist: list of model names that we want to concatenate\n",
        "\n",
        "    D is the dimension of the feature vectors\n",
        "    M is the number of emitting states in each HMM model (could be\n",
        "      different in each model)\n",
        "\n",
        "    Output\n",
        "       combinedhmm: dictionary with the same keys as the input but\n",
        "                    combined models:\n",
        "         startprob: K+1 array with priori probability of state\n",
        "          transmat: (K+1)x(K+1) transition matrix\n",
        "             means: KxD array of mean vectors\n",
        "            covars: KxD array of variances\n",
        "\n",
        "    K is the sum of the number of emitting states from the input models\n",
        "\n",
        "    Example:\n",
        "       wordHMMs['o'] = concatHMMs(phoneHMMs, ['sil', 'ow', 'sil'])\n",
        "    \"\"\"\n",
        "    \n",
        "    concat = hmmmodels[namelist[0]]\n",
        "    for idx in range(1, len(namelist)):\n",
        "        concat = concatTwoHMMs(concat, hmmmodels[namelist[idx]])\n",
        "    return concat"
      ],
      "execution_count": null,
      "outputs": []
    },
    {
      "cell_type": "code",
      "metadata": {
        "id": "74QSRMIwERr4"
      },
      "source": [
        "def forward(log_emlik, log_startprob, log_transmat):\n",
        "    \"\"\"Forward (alpha) probabilities in log domain.\n",
        "\n",
        "    Args:\n",
        "        log_emlik: NxM array of emission log likelihoods, N frames, M states\n",
        "        log_startprob: log probability to start in state i\n",
        "        log_transmat: log transition probability from state i to j\n",
        "\n",
        "    Output:\n",
        "        forward_prob: NxM array of forward log probabilities for each of the M states in the model\n",
        "    \"\"\"\n",
        "    alpha = np.zeros(log_emlik.shape)\n",
        "    alpha[0][:] = log_startprob.T + log_emlik[0]\n",
        "\n",
        "    for n in range(1,len(alpha)):\n",
        "        for i in range(alpha.shape[1]):\n",
        "            alpha[n, i] = logsumexp(alpha[n - 1] + log_transmat[:,i]) + log_emlik[n,i]\n",
        "    return alpha"
      ],
      "execution_count": null,
      "outputs": []
    },
    {
      "cell_type": "code",
      "metadata": {
        "id": "eMiTVQUqETaB"
      },
      "source": [
        "def backward(log_emlik, log_startprob, log_transmat):\n",
        "    \"\"\"Backward (beta) probabilities in log domain.\n",
        "\n",
        "    Args:\n",
        "        log_emlik: NxM array of emission log likelihoods, N frames, M states\n",
        "        log_startprob: log probability to start in state i\n",
        "        log_transmat: transition log probability from state i to j\n",
        "\n",
        "    Output:\n",
        "        backward_prob: NxM array of backward log probabilities for each of the M states in the model\n",
        "    \"\"\"\n",
        "    N, M = log_emlik.shape\n",
        "    beta = np.zeros((N,M))\n",
        "    for n in reversed(range(N-1)):\n",
        "        for i in range(M):\n",
        "            beta[n,i] = logsumexp(log_transmat[i,:] + log_emlik[n+1,:] + beta[n+1,:])\n",
        "    return beta"
      ],
      "execution_count": null,
      "outputs": []
    },
    {
      "cell_type": "code",
      "metadata": {
        "id": "bQA4Sz9JEUsK"
      },
      "source": [
        "def viterbi(log_emlik, log_startprob, log_transmat, forceFinalState=True):\n",
        "    \"\"\"Viterbi path.\n",
        "\n",
        "    Args:\n",
        "        log_emlik: NxM array of emission log likelihoods, N frames, M states\n",
        "        log_startprob: log probability to start in state i\n",
        "        log_transmat: transition log probability from state i to j\n",
        "        forceFinalState: if True, start backtracking from the final state in\n",
        "                  the model, instead of the best state at the last time step\n",
        "\n",
        "    Output:\n",
        "        viterbi_loglik: log likelihood of the best path\n",
        "        viterbi_path: best path\n",
        "    \"\"\"\n",
        "    #N, M = log_emlik.shape[0], log_emlik.shape[1]\n",
        "    N = log_emlik.shape[0]\n",
        "    M = log_emlik.shape[1]\n",
        "\n",
        "    V = np.zeros((N,M))\n",
        "    B = np.zeros((N,M))\n",
        "    viterbi_path = np.zeros((N), dtype=np.int)\n",
        "    viterbi_loglik = 0\n",
        "\n",
        "    for j in range(M):\n",
        "      V[0, j] = log_startprob[j] + log_emlik[0,j]\n",
        "\n",
        "    for n in range(1,N):\n",
        "      for j in range(M):\n",
        "        V[n, j] = np.max(V[n-1,:] + log_transmat[:,j]) + log_emlik[n,j]\n",
        "        B[n, j] = np.argmax(V[n-1,:] + log_transmat[:,j])\n",
        "\n",
        "    viterbi_path[-1] = np.argmax(V[-1, :])\n",
        "    viterbi_loglik = V[N-1, viterbi_path[-1]]\n",
        "\n",
        "    for n in range(0,N-1):\n",
        "      viterbi_path[n] += np.max(V[n-1,:])\n",
        "\n",
        "    for n in reversed(range(N-1)):\n",
        "      for j in range(M):\n",
        "        viterbi_path[n] = B[n+1, viterbi_path[n+1]]\n",
        "            \n",
        "    return (viterbi_loglik, viterbi_path)"
      ],
      "execution_count": null,
      "outputs": []
    },
    {
      "cell_type": "code",
      "metadata": {
        "id": "iYY-BGqoEXPQ"
      },
      "source": [
        "def statePosteriors(log_alpha, log_beta):\n",
        "    \"\"\"State posterior (gamma) probabilities in log domain.\n",
        "\n",
        "    Args:\n",
        "        log_alpha: NxM array of log forward (alpha) probabilities\n",
        "        log_beta: NxM array of log backward (beta) probabilities\n",
        "    where N is the number of frames, and M the number of states\n",
        "\n",
        "    Output:\n",
        "        log_gamma: NxM array of gamma probabilities for each of the M states in the model\n",
        "    \"\"\"\n",
        "    N, M = log_alpha.shape\n",
        "    log_gamma = log_alpha + log_beta - logsumexp(log_alpha[N - 1])\n",
        "    return log_gamma"
      ],
      "execution_count": null,
      "outputs": []
    },
    {
      "cell_type": "code",
      "metadata": {
        "id": "NIubQU4101-n"
      },
      "source": [
        "def statePosteriorsGMM(log_emlik):\n",
        "\n",
        "  denom = logsumexp(log_emlik)\n",
        "  gammas = log_emlik - denom\n",
        "\n",
        "  return gammas"
      ],
      "execution_count": null,
      "outputs": []
    },
    {
      "cell_type": "code",
      "metadata": {
        "id": "M5zWfQ_dEY5y"
      },
      "source": [
        "def updateMeanAndVar(X, log_gamma, varianceFloor=5.0):\n",
        "    \"\"\" Update Gaussian parameters with diagonal covariance\n",
        "\n",
        "    Args:\n",
        "         X: NxD array of feature vectors\n",
        "         log_gamma: NxM state posterior probabilities in log domain\n",
        "         varianceFloor: minimum allowed variance scalar\n",
        "    were N is the lenght of the observation sequence, D is the\n",
        "    dimensionality of the feature vectors and M is the number of\n",
        "    states in the model\n",
        "\n",
        "    Outputs:\n",
        "         means: MxD mean vectors for each state\n",
        "         covars: MxD covariance (variance) vectors for each state\n",
        "    \"\"\"\n",
        "\n",
        "    gamma = np.exp(log_gamma)\n",
        "    n_state = gamma.shape[1]\n",
        "    n_feat = X.shape[1]\n",
        "\n",
        "    means = np.zeros((n_state, n_feat))\n",
        "    covars = np.zeros_like(means)\n",
        "\n",
        "    for i in range(n_state):\n",
        "      gamma_denom = np.sum(gamma[:,i])\n",
        "      means[i] = np.sum(gamma[:,i].reshape(-1, 1) * X, axis = 0) / gamma_denom\n",
        "      covars[i] = np.sum(gamma[:,i].reshape(-1, 1) * (X - means[i])**2, axis = 0) / gamma_denom\n",
        "\n",
        "    np.clip(covars, varianceFloor, None, covars)\n",
        "\n",
        "    return means, covars"
      ],
      "execution_count": null,
      "outputs": []
    },
    {
      "cell_type": "markdown",
      "metadata": {
        "id": "rWkzND_b9m7A"
      },
      "source": [
        "## HMM Likelihood and Recognition"
      ]
    },
    {
      "cell_type": "code",
      "metadata": {
        "id": "JGs2Bqif1UUW"
      },
      "source": [
        "isolated = {}\n",
        "wordHMMs = {}\n",
        "for digit in prondict.keys():\n",
        "  isolated[digit] = ['sil'] + prondict[digit] + ['sil']\n",
        "  wordHMMs[digit] = concatHMMs(phoneHMMs_one, isolated[digit])"
      ],
      "execution_count": null,
      "outputs": []
    },
    {
      "cell_type": "markdown",
      "metadata": {
        "id": "YlNCW_oZD9_0"
      },
      "source": [
        "### Gaussian Emission Probabilities"
      ]
    },
    {
      "cell_type": "code",
      "metadata": {
        "colab": {
          "base_uri": "https://localhost:8080/",
          "height": 286
        },
        "id": "eGtM2vUU9p5L",
        "outputId": "c2a7ce4d-06c9-4d9f-cc39-c252ed3c9606"
      },
      "source": [
        "answer = {}\n",
        "digit = 'o'\n",
        "\n",
        "answer['obsloglik'] = log_multivariate_normal_density_diag(example['lmfcc'], wordHMMs[digit]['means'], wordHMMs[digit]['covars'])\n",
        "\n",
        "print(np.allclose(example['obsloglik'], answer['obsloglik']))\n",
        "\n",
        "plt.pcolormesh(answer['obsloglik'].T)\n",
        "plt.show()"
      ],
      "execution_count": null,
      "outputs": [
        {
          "output_type": "stream",
          "text": [
            "True\n"
          ],
          "name": "stdout"
        },
        {
          "output_type": "display_data",
          "data": {
            "image/png": "[encoded data removed]",
            "text/plain": [
              "<Figure size 432x288 with 1 Axes>"
            ]
          },
          "metadata": {
            "tags": [],
            "needs_background": "light"
          }
        }
      ]
    },
    {
      "cell_type": "code",
      "metadata": {
        "colab": {
          "base_uri": "https://localhost:8080/",
          "height": 265
        },
        "id": "gF9uQU4VqRTz",
        "outputId": "8b91329c-0f9f-4a61-9d14-ecf4baf40368"
      },
      "source": [
        "answer = {}\n",
        "digit = '4'\n",
        "\n",
        "answer['obsloglik'] = log_multivariate_normal_density_diag(data[10]['lmfcc'], wordHMMs[digit]['means'], wordHMMs[digit]['covars'])\n",
        "\n",
        "plt.pcolormesh(answer['obsloglik'].T)\n",
        "plt.show()"
      ],
      "execution_count": null,
      "outputs": [
        {
          "output_type": "display_data",
          "data": {
            "image/png": "[encoded data removed]",
            "text/plain": [
              "<Figure size 432x288 with 1 Axes>"
            ]
          },
          "metadata": {
            "tags": [],
            "needs_background": "light"
          }
        }
      ]
    },
    {
      "cell_type": "markdown",
      "metadata": {
        "id": "QtNbltZaEGbI"
      },
      "source": [
        "### Forward algorithm"
      ]
    },
    {
      "cell_type": "code",
      "metadata": {
        "colab": {
          "base_uri": "https://localhost:8080/",
          "height": 286
        },
        "id": "5XLSogaqEITw",
        "outputId": "2f1dce8b-a4e8-4d85-813d-96ae1b4cdb90"
      },
      "source": [
        "import warnings\n",
        "warnings.filterwarnings(\"ignore\", category=RuntimeWarning)\n",
        "\n",
        "log_startprob = np.log(wordHMMs[digit]['startprob'][:-1])\n",
        "log_transmat = np.log(wordHMMs[digit]['transmat'][:-1,:-1])\n",
        "answer['logalpha'] = forward(example['obsloglik'], log_startprob, log_transmat)\n",
        "\n",
        "print(np.allclose(example['logalpha'], answer['logalpha']))\n",
        "\n",
        "plt.pcolormesh(example['logalpha'].T)\n",
        "plt.show()"
      ],
      "execution_count": null,
      "outputs": [
        {
          "output_type": "stream",
          "text": [
            "True\n"
          ],
          "name": "stdout"
        },
        {
          "output_type": "display_data",
          "data": {
            "image/png": "[encoded data removed]",
            "text/plain": [
              "<Figure size 432x288 with 1 Axes>"
            ]
          },
          "metadata": {
            "tags": [],
            "needs_background": "light"
          }
        }
      ]
    },
    {
      "cell_type": "code",
      "metadata": {
        "colab": {
          "base_uri": "https://localhost:8080/"
        },
        "id": "UKUnKJcsP8la",
        "outputId": "c9c51fb3-97b3-41e9-8d6f-65fd34eca109"
      },
      "source": [
        "answer['loglik'] = logsumexp(answer['logalpha'][-1])\n",
        "print(example['loglik'] == answer['loglik'])"
      ],
      "execution_count": null,
      "outputs": [
        {
          "output_type": "stream",
          "text": [
            "True\n"
          ],
          "name": "stdout"
        }
      ]
    },
    {
      "cell_type": "code",
      "metadata": {
        "id": "1J7BwXpwRSXm"
      },
      "source": [
        "isolated = {}\n",
        "wordHMMs_all = {}\n",
        "for digit in prondict.keys():\n",
        "  isolated[digit] = ['sil'] + prondict[digit] + ['sil']\n",
        "  wordHMMs_all[digit] = concatHMMs(phoneHMMs, isolated[digit])"
      ],
      "execution_count": null,
      "outputs": []
    },
    {
      "cell_type": "markdown",
      "metadata": {
        "id": "HRaY0lJNUbjb"
      },
      "source": [
        "### Scoring models"
      ]
    },
    {
      "cell_type": "code",
      "metadata": {
        "id": "tXmtv8z5Z9p6"
      },
      "source": [
        "idx2digit = []\n",
        "digit2idx = {}\n",
        "\n",
        "for idx, digit in enumerate(prondict.keys()):\n",
        "  idx2digit.append(digit)\n",
        "  digit2idx[digit] = idx"
      ],
      "execution_count": null,
      "outputs": []
    },
    {
      "cell_type": "code",
      "metadata": {
        "id": "uxj0ikdpcaph"
      },
      "source": [
        "def forward_predict(wordHMMs):\n",
        "    scores = np.zeros((44,11))\n",
        "    ground_truth = []\n",
        "\n",
        "    for idx1, utt in enumerate(data):\n",
        "        ground_truth.append(digit2idx[utt['digit']])\n",
        "        for idx2, word in enumerate(wordHMMs):\n",
        "            answer['obsloglik'] = log_multivariate_normal_density_diag(utt['lmfcc'], wordHMMs[word]['means'], wordHMMs[word]['covars'])  \n",
        "            log_startprob = np.log(wordHMMs[word]['startprob'][:-1])\n",
        "            log_transmat = np.log(wordHMMs[word]['transmat'][:-1,:-1])\n",
        "            alpha = forward(answer['obsloglik'], log_startprob, log_transmat)\n",
        "            answer['loglik'] = logsumexp(alpha[-1])\n",
        "            scores[idx1, idx2] = answer['loglik']\n",
        "\n",
        "    return accuracy_score(np.argmax(scores, axis=1), ground_truth)"
      ],
      "execution_count": null,
      "outputs": []
    },
    {
      "cell_type": "code",
      "metadata": {
        "colab": {
          "base_uri": "https://localhost:8080/"
        },
        "id": "F2KY1mYykfQg",
        "outputId": "6f7d5dff-c2b6-4078-abe2-925c49bec1a7"
      },
      "source": [
        "%time acc_all = forward_predict(wordHMMs_all)"
      ],
      "execution_count": null,
      "outputs": [
        {
          "output_type": "stream",
          "text": [
            "CPU times: user 24.6 s, sys: 1.17 s, total: 25.7 s\n",
            "Wall time: 24.3 s\n"
          ],
          "name": "stdout"
        }
      ]
    },
    {
      "cell_type": "code",
      "metadata": {
        "colab": {
          "base_uri": "https://localhost:8080/"
        },
        "id": "2bNWQd2ikfZc",
        "outputId": "1a40279e-dc92-49b2-c259-fe98acdd59d3"
      },
      "source": [
        "%time acc_one = forward_predict(wordHMMs)"
      ],
      "execution_count": null,
      "outputs": [
        {
          "output_type": "stream",
          "text": [
            "CPU times: user 24.3 s, sys: 1.17 s, total: 25.4 s\n",
            "Wall time: 24 s\n"
          ],
          "name": "stdout"
        }
      ]
    },
    {
      "cell_type": "code",
      "metadata": {
        "colab": {
          "base_uri": "https://localhost:8080/"
        },
        "id": "kRcmtQGazs-Q",
        "outputId": "796e032f-af5f-4380-b2d1-726efe604d97"
      },
      "source": [
        "print('Accuracy for one speaker model:  {:.2f}'.format(acc_one))\n",
        "print('Accuracy for all speakers model: {:.2f}'.format(acc_all))"
      ],
      "execution_count": null,
      "outputs": [
        {
          "output_type": "stream",
          "text": [
            "Accuracy for one speaker model:  0.77\n",
            "Accuracy for all speakers model: 0.98\n"
          ],
          "name": "stdout"
        }
      ]
    },
    {
      "cell_type": "markdown",
      "metadata": {
        "id": "P4k6cAwfKAxv"
      },
      "source": [
        "### Viterbi"
      ]
    },
    {
      "cell_type": "code",
      "metadata": {
        "id": "guaL0FLEBsAG"
      },
      "source": [
        "obsloglik = log_multivariate_normal_density_diag(example['lmfcc'], wordHMMs['o']['means'], wordHMMs['o']['covars'])  \n",
        "log_startprob = np.log(wordHMMs['o']['startprob'][:-1])\n",
        "log_transmat = np.log(wordHMMs['o']['transmat'][:-1,:-1])\n",
        "alpha = forward(obsloglik, log_startprob, log_transmat) \n",
        "answer['vloglik'], answer['vpath'] = viterbi(obsloglik, log_startprob, log_transmat)"
      ],
      "execution_count": null,
      "outputs": []
    },
    {
      "cell_type": "code",
      "metadata": {
        "colab": {
          "base_uri": "https://localhost:8080/"
        },
        "id": "FmcTbM_67DiV",
        "outputId": "bf0b97c9-5caf-4b2f-ae2b-9519e5f5a884"
      },
      "source": [
        "print(np.allclose(answer['vloglik'], example['vloglik']))\n",
        "print(np.allclose(answer['vpath'], example['vpath']))"
      ],
      "execution_count": null,
      "outputs": [
        {
          "output_type": "stream",
          "text": [
            "True\n",
            "True\n"
          ],
          "name": "stdout"
        }
      ]
    },
    {
      "cell_type": "code",
      "metadata": {
        "colab": {
          "base_uri": "https://localhost:8080/",
          "height": 283
        },
        "id": "wbVoTe237In6",
        "outputId": "6dbdfbf1-7a27-4b03-fb4c-fb4f88bcaa85"
      },
      "source": [
        "plt.pcolormesh(alpha.T)\n",
        "plt.plot(answer['vpath'])\n",
        "plt.xlabel('frames')\n",
        "plt.ylabel('sil o sil states')\n",
        "plt.show()"
      ],
      "execution_count": null,
      "outputs": [
        {
          "output_type": "display_data",
          "data": {
            "image/png": "[encoded data removed]",
            "text/plain": [
              "<Figure size 432x288 with 1 Axes>"
            ]
          },
          "metadata": {
            "tags": [],
            "needs_background": "light"
          }
        }
      ]
    },
    {
      "cell_type": "code",
      "metadata": {
        "id": "NyN8nrmd_sDl"
      },
      "source": [
        "def viterbi_predict(wordHMMs):\n",
        "    scores = np.zeros((44,11))\n",
        "    ground_truth = []\n",
        "\n",
        "    for idx1, utt in enumerate(data):\n",
        "        ground_truth.append(digit2idx[utt['digit']])\n",
        "        for idx2, word in enumerate(wordHMMs):\n",
        "            obsloglik = log_multivariate_normal_density_diag(utt['lmfcc'], wordHMMs[word]['means'], wordHMMs[word]['covars'])  \n",
        "            log_startprob = np.log(wordHMMs[word]['startprob'][:-1])\n",
        "            log_transmat = np.log(wordHMMs[word]['transmat'][:-1,:-1])\n",
        "            vloglik, vpath = viterbi(obsloglik, log_startprob, log_transmat)\n",
        "            scores[idx1, idx2] = vloglik\n",
        "\n",
        "    return accuracy_score(np.argmax(scores, axis=1), ground_truth)"
      ],
      "execution_count": null,
      "outputs": []
    },
    {
      "cell_type": "code",
      "metadata": {
        "colab": {
          "base_uri": "https://localhost:8080/"
        },
        "id": "IyzsTnkzjdoi",
        "outputId": "a10f687a-c8fe-461b-8fdd-c474b3f11965"
      },
      "source": [
        "%time acc_all = viterbi_predict(wordHMMs_all)"
      ],
      "execution_count": null,
      "outputs": [
        {
          "output_type": "stream",
          "text": [
            "CPU times: user 9.76 s, sys: 615 ms, total: 10.4 s\n",
            "Wall time: 9.75 s\n"
          ],
          "name": "stdout"
        }
      ]
    },
    {
      "cell_type": "code",
      "metadata": {
        "colab": {
          "base_uri": "https://localhost:8080/"
        },
        "id": "33FSJeB9j8nO",
        "outputId": "b74bb6ea-99c6-4d30-f698-7aaa88033dc9"
      },
      "source": [
        "%time acc_one = viterbi_predict(wordHMMs)"
      ],
      "execution_count": null,
      "outputs": [
        {
          "output_type": "stream",
          "text": [
            "CPU times: user 9.48 s, sys: 385 ms, total: 9.87 s\n",
            "Wall time: 9.47 s\n"
          ],
          "name": "stdout"
        }
      ]
    },
    {
      "cell_type": "code",
      "metadata": {
        "colab": {
          "base_uri": "https://localhost:8080/"
        },
        "id": "5cSnewGnRyiC",
        "outputId": "94aba357-6005-4124-8908-e59552550baa"
      },
      "source": [
        "print('Accuracy for one speaker model:  {:.2f}'.format(acc_one))\n",
        "print('Accuracy for all speakers model: {:.2f}'.format(acc_all))"
      ],
      "execution_count": null,
      "outputs": [
        {
          "output_type": "stream",
          "text": [
            "Accuracy for one speaker model:  0.77\n",
            "Accuracy for all speakers model: 1.00\n"
          ],
          "name": "stdout"
        }
      ]
    },
    {
      "cell_type": "markdown",
      "metadata": {
        "id": "d1MccgjKnuyk"
      },
      "source": [
        "### Backward pass"
      ]
    },
    {
      "cell_type": "code",
      "metadata": {
        "id": "jO2yDESNR1V4"
      },
      "source": [
        "obsloglik = log_multivariate_normal_density_diag(example['lmfcc'], wordHMMs['o']['means'], wordHMMs['o']['covars'])  \n",
        "log_startprob = np.log(wordHMMs['o']['startprob'][:-1])\n",
        "log_transmat = np.log(wordHMMs['o']['transmat'][:-1,:-1])\n",
        "beta = backward(obsloglik, log_startprob, log_transmat)"
      ],
      "execution_count": null,
      "outputs": []
    },
    {
      "cell_type": "code",
      "metadata": {
        "colab": {
          "base_uri": "https://localhost:8080/",
          "height": 286
        },
        "id": "T_3QCbZCrD_z",
        "outputId": "907fa111-4e77-40d3-9bb8-2fe8b37fa3ce"
      },
      "source": [
        "print(np.allclose(example['logbeta'], beta))\n",
        "plt.pcolormesh(beta.T)\n",
        "plt.show()"
      ],
      "execution_count": null,
      "outputs": [
        {
          "output_type": "stream",
          "text": [
            "True\n"
          ],
          "name": "stdout"
        },
        {
          "output_type": "display_data",
          "data": {
            "image/png": "[encoded data removed]",
            "text/plain": [
              "<Figure size 432x288 with 1 Axes>"
            ]
          },
          "metadata": {
            "tags": [],
            "needs_background": "light"
          }
        }
      ]
    },
    {
      "cell_type": "markdown",
      "metadata": {
        "id": "qYSS57tOtZAH"
      },
      "source": [
        "## HMM Retraining"
      ]
    },
    {
      "cell_type": "code",
      "metadata": {
        "id": "kRlVYpsRrGIo"
      },
      "source": [
        "obsloglik = log_multivariate_normal_density_diag(example['lmfcc'], wordHMMs['o']['means'], wordHMMs['o']['covars'])  \n",
        "log_startprob = np.log(wordHMMs['o']['startprob'][:-1])\n",
        "log_transmat = np.log(wordHMMs['o']['transmat'][:-1,:-1])\n",
        "log_alpha = forward(obsloglik, log_startprob, log_transmat) \n",
        "log_beta = backward(obsloglik, log_startprob, log_transmat)\n",
        "log_gamma = statePosteriors(alpha, beta)"
      ],
      "execution_count": null,
      "outputs": []
    },
    {
      "cell_type": "code",
      "metadata": {
        "colab": {
          "base_uri": "https://localhost:8080/"
        },
        "id": "nrSMU8eNwxiH",
        "outputId": "cd32e3e1-3409-4081-d4df-d484b9a2839a"
      },
      "source": [
        "print(np.allclose(example['loggamma'], log_gamma))\n",
        "np.allclose(np.sum(np.exp(log_gamma), axis = 1), np.ones(log_gamma.shape[0]))"
      ],
      "execution_count": null,
      "outputs": [
        {
          "output_type": "stream",
          "text": [
            "True\n"
          ],
          "name": "stdout"
        },
        {
          "output_type": "execute_result",
          "data": {
            "text/plain": [
              "True"
            ]
          },
          "metadata": {
            "tags": []
          },
          "execution_count": 93
        }
      ]
    },
    {
      "cell_type": "code",
      "metadata": {
        "colab": {
          "base_uri": "https://localhost:8080/",
          "height": 283
        },
        "id": "dg7KMRGUw50C",
        "outputId": "ab2f54db-58f2-4f98-d843-63225f3b7a21"
      },
      "source": [
        "plt.pcolormesh(log_gamma.T)\n",
        "plt.xlabel('frames')\n",
        "plt.ylabel('states')\n",
        "plt.show()"
      ],
      "execution_count": null,
      "outputs": [
        {
          "output_type": "display_data",
          "data": {
            "image/png": "[encoded data removed]",
            "text/plain": [
              "<Figure size 432x288 with 1 Axes>"
            ]
          },
          "metadata": {
            "tags": [],
            "needs_background": "light"
          }
        }
      ]
    },
    {
      "cell_type": "code",
      "metadata": {
        "id": "2lrz_JnkyXIJ"
      },
      "source": [
        "gmm_gammas = statePosteriorsGMM(obsloglik)"
      ],
      "execution_count": null,
      "outputs": []
    },
    {
      "cell_type": "code",
      "metadata": {
        "colab": {
          "base_uri": "https://localhost:8080/",
          "height": 269
        },
        "id": "SeGp4eR21t6D",
        "outputId": "5bf45b35-bcab-41d1-e36a-c21e6b19444a"
      },
      "source": [
        "plt.pcolormesh(gmm_gammas.T)\n",
        "plt.show()"
      ],
      "execution_count": null,
      "outputs": [
        {
          "output_type": "display_data",
          "data": {
            "image/png": "[encoded data removed]",
            "text/plain": [
              "<Figure size 432x288 with 1 Axes>"
            ]
          },
          "metadata": {
            "tags": [],
            "needs_background": "light"
          }
        }
      ]
    },
    {
      "cell_type": "markdown",
      "metadata": {
        "id": "FS57E0k1zK3l"
      },
      "source": [
        "### Summing HMM posteriors"
      ]
    },
    {
      "cell_type": "code",
      "metadata": {
        "id": "71Z3Gqu8MhFD"
      },
      "source": [
        "gamma = np.exp(log_gamma)"
      ],
      "execution_count": null,
      "outputs": []
    },
    {
      "cell_type": "code",
      "metadata": {
        "colab": {
          "base_uri": "https://localhost:8080/",
          "height": 265
        },
        "id": "rGBWES3-2c3-",
        "outputId": "e75bc717-283f-4444-b686-4e25bf01538f"
      },
      "source": [
        "plt.plot(np.sum(gamma, axis=0))\n",
        "plt.show()"
      ],
      "execution_count": null,
      "outputs": [
        {
          "output_type": "display_data",
          "data": {
            "image/png": "[encoded data removed]",
            "text/plain": [
              "<Figure size 432x288 with 1 Axes>"
            ]
          },
          "metadata": {
            "tags": [],
            "needs_background": "light"
          }
        }
      ]
    },
    {
      "cell_type": "code",
      "metadata": {
        "colab": {
          "base_uri": "https://localhost:8080/"
        },
        "id": "EFpu3mSOJFdd",
        "outputId": "2b31dd7f-b41f-4b40-d27c-b180ee9222cb"
      },
      "source": [
        "np.sum(gamma)"
      ],
      "execution_count": null,
      "outputs": [
        {
          "output_type": "execute_result",
          "data": {
            "text/plain": [
              "70.99999999991067"
            ]
          },
          "metadata": {
            "tags": []
          },
          "execution_count": 101
        }
      ]
    },
    {
      "cell_type": "markdown",
      "metadata": {
        "id": "-Rlp5_n0Kq3E"
      },
      "source": [
        "### Retraining the emission probability distributions"
      ]
    },
    {
      "cell_type": "code",
      "metadata": {
        "colab": {
          "base_uri": "https://localhost:8080/",
          "height": 279
        },
        "id": "PZ8dJRrVKv8L",
        "outputId": "d6980859-6d77-4883-9fae-f3e8ee1a21d3"
      },
      "source": [
        "isolated = {}\n",
        "wordHMMs_all = {}\n",
        "for digit in prondict.keys():\n",
        "  isolated[digit] = ['sil'] + prondict[digit] + ['sil']\n",
        "  wordHMMs_all[digit] = concatHMMs(phoneHMMs, isolated[digit])\n",
        "\n",
        "max_iters = 20\n",
        "threshold = 1\n",
        "loglik_evolution = []\n",
        "digit = '4'\n",
        "\n",
        "log_startprob = np.log(wordHMMs_all['4']['startprob'][:-1])\n",
        "log_transmat =  np.log(wordHMMs_all['4']['transmat'][:-1,:-1])\n",
        "\n",
        "\n",
        "for i in range(max_iters):\n",
        "  obsloglik = log_multivariate_normal_density_diag(data[10]['lmfcc'], wordHMMs_all[digit]['means'], wordHMMs_all[digit]['covars'])\n",
        "\n",
        "  alpha = forward(obsloglik, log_startprob, log_transmat) \n",
        "  beta = backward(obsloglik, log_startprob, log_transmat)\n",
        "  log_gamma = statePosteriors(alpha, beta)\n",
        "  loglik = logsumexp(alpha[-1])\n",
        "\n",
        "  if i and loglik - loglik_evolution[-1] < threshold:\n",
        "    break\n",
        "\n",
        "  loglik_evolution.append(loglik)\n",
        "  wordHMMs_all[digit]['means'], wordHMMs_all[digit]['covars'] = updateMeanAndVar(data[10]['lmfcc'], log_gamma)\n",
        "\n",
        "plt.plot(loglik_evolution)\n",
        "plt.xlabel('iterations')\n",
        "plt.ylabel('loglik')\n",
        "plt.show()"
      ],
      "execution_count": null,
      "outputs": [
        {
          "output_type": "display_data",
          "data": {
            "image/png": "[encoded data removed]",
            "text/plain": [
              "<Figure size 432x288 with 1 Axes>"
            ]
          },
          "metadata": {
            "tags": [],
            "needs_background": "light"
          }
        }
      ]
    },
    {
      "cell_type": "code",
      "metadata": {
        "colab": {
          "base_uri": "https://localhost:8080/",
          "height": 316
        },
        "id": "HPxqfmzpd1xu",
        "outputId": "b3fd0457-49a1-4b19-80fe-5a4e86c00f21"
      },
      "source": [
        "isolated = {}\n",
        "wordHMMs_all = {}\n",
        "for digit in prondict.keys():\n",
        "  isolated[digit] = ['sil'] + prondict[digit] + ['sil']\n",
        "  wordHMMs_all[digit] = concatHMMs(phoneHMMs, isolated[digit])\n",
        "\n",
        "max_iters = 20\n",
        "threshold = 1\n",
        "loglik_evolution = []\n",
        "digit = '1'\n",
        "\n",
        "log_startprob = np.log(wordHMMs_all[digit]['startprob'][:-1])\n",
        "log_transmat =  np.log(wordHMMs_all[digit]['transmat'][:-1,:-1])\n",
        "\n",
        "for i in range(max_iters):\n",
        "  obsloglik = log_multivariate_normal_density_diag(data[10]['lmfcc'], wordHMMs_all[digit]['means'], wordHMMs_all[digit]['covars'])\n",
        "\n",
        "  alpha = forward(obsloglik, log_startprob, log_transmat) \n",
        "  beta = backward(obsloglik, log_startprob, log_transmat)\n",
        "  log_gamma = statePosteriors(alpha, beta)\n",
        "  loglik = logsumexp(alpha[-1])\n",
        "\n",
        "  if i and loglik - loglik_evolution[-1] < threshold:\n",
        "    break\n",
        "\n",
        "  loglik_evolution.append(loglik)\n",
        "  wordHMMs_all[digit]['means'], wordHMMs_all[digit]['covars'] = updateMeanAndVar(data[10]['lmfcc'], log_gamma)\n",
        "\n",
        "print(loglik_evolution)\n",
        "plt.plot(loglik_evolution)\n",
        "plt.xlabel('iterations')\n",
        "plt.ylabel('loglik')\n",
        "plt.show()"
      ],
      "execution_count": null,
      "outputs": [
        {
          "output_type": "stream",
          "text": [
            "[-7041.542140050837, -6190.523823350007, -5996.860424783277, -5955.943696768653, -5928.814863143417, -5919.2712835662, -5914.647750120037, -5911.803921583841, -5905.8109884208125, -5903.338236248106]\n"
          ],
          "name": "stdout"
        },
        {
          "output_type": "display_data",
          "data": {
            "image/png": "[encoded data removed]",
            "text/plain": [
              "<Figure size 432x288 with 1 Axes>"
            ]
          },
          "metadata": {
            "tags": [],
            "needs_background": "light"
          }
        }
      ]
    }
  ]
}